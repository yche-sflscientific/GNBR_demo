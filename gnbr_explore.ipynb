{
 "cells": [
  {
   "cell_type": "code",
   "execution_count": 2,
   "id": "e16f09b4-2626-490e-bbfd-25efa3f66d74",
   "metadata": {},
   "outputs": [],
   "source": [
    "import pandas as pd\n",
    "import networkx\n",
    "import numpy as np\n",
    "import matplotlib.pyplot as plt\n",
    "%matplotlib inline"
   ]
  },
  {
   "cell_type": "markdown",
   "id": "519a9542-0467-4a48-a345-0332c7246c62",
   "metadata": {},
   "source": [
    "### Processing GNBR requires extra datasets\n",
    "* cleanGNBR.py: requires genesAndTaxa and meshChebiOMIMMappings\n",
    "* download: gene_info (5.1G), gen_history (804Mb) from https://ftp.ncbi.nlm.nih.gov/gene/DATA/\n",
    "* download taxdmp.zip from https://ftp.ncbi.nih.gov/pub/taxonomy/\n",
    "* download MeSH ASCII bin files https://www.nlm.nih.gov/databases/download/mesh.html\n",
    "* download Titles file from OMIM https://www.omim.org/downloads\n",
    "* download Names file from CHEBI from https://ftp.ebi.ac.uk/pub/databases/chebi/Flat_file_tab_delimited/\n",
    "\n",
    "Three missing files\n",
    "* checkSpeciesOfGenes.py: \n",
    "* gatherGenesWithTaxa.py\n",
    "* meSHChebiOMIM_mapping.py"
   ]
  },
  {
   "cell_type": "markdown",
   "id": "510e77fd-b7c7-47ef-b32c-9f495911d4c9",
   "metadata": {},
   "source": [
    "### Processing the GNBR .txt files downloaded from Zenodo"
   ]
  },
  {
   "cell_type": "markdown",
   "id": "936644d2-ec2c-4c9d-8fb5-e71ef9845a9a",
   "metadata": {},
   "source": [
    "### Steps\n",
    "\n",
    "- `python createMapping.py --partiis ../part-ii-dependency-paths-chemical-gene-sorted-with-themes.txt --outFile entities.tsv2`\n",
    "\n",
    "- `python processGNBR.py --entities entities.tsv2 --parti ../part-i-chemical-gene-path-theme-distributions.txt --partii ../part-ii-dependency-paths-chemical-gene-sorted-with-themes.txt --outFile gnbr.chemical-gene.tsv`\n",
    "\n",
    "- `python gatherGenesWithTaxa.py --ncbiGeneInfo ../gene_info --ncbiGeneHistory ../gene_history --taxonomyNames ../taxdmp/names.dmp --taxonomyMerged ../taxdmp/merged.dmp --outFile ../gene_with_taxa.tsv`\n",
    "\n",
    "\n",
    "\n",
    "### Not sure what's the geneID file to use.\n",
    "- `python checkSpeciesOfGenes.py --geneIDs ../gnbr.chemical-gene.tsv --ncbiGeneInfo ../gene_info --ncbiGeneHistory ../gene_history --taxonomyNames ../taxdmp/names.dmp --taxonomyMerged ../taxdmp/merged.dmp --outFile ../gene_matched_species.tsv`\n",
    "\n"
   ]
  },
  {
   "cell_type": "code",
   "execution_count": 3,
   "id": "855bac66-bd37-4071-9f9b-c3cd894df5d2",
   "metadata": {},
   "outputs": [],
   "source": [
    "names = [\"theme\", \"percentile\", \"PubMed ID\", \"First entity type (Chemical, Gene, Disease)\", \"First entity name, database ID(s)\", \"name1\", \"Second entity type (Chemical, Gene, Disease)\", \"Second entity name, database ID(s)\", \"name2\", \"sentence\"]\n",
    "df = pd.read_csv(\"gnbr.chemical-gene.tsv\", on_bad_lines='skip',sep=\"\\t\", header=None, names=names)"
   ]
  },
  {
   "cell_type": "code",
   "execution_count": 4,
   "id": "b3287eaa-f71f-4d7a-b9ae-a327a4561bc3",
   "metadata": {},
   "outputs": [
    {
     "data": {
      "text/html": [
       "<div>\n",
       "<style scoped>\n",
       "    .dataframe tbody tr th:only-of-type {\n",
       "        vertical-align: middle;\n",
       "    }\n",
       "\n",
       "    .dataframe tbody tr th {\n",
       "        vertical-align: top;\n",
       "    }\n",
       "\n",
       "    .dataframe thead th {\n",
       "        text-align: right;\n",
       "    }\n",
       "</style>\n",
       "<table border=\"1\" class=\"dataframe\">\n",
       "  <thead>\n",
       "    <tr style=\"text-align: right;\">\n",
       "      <th></th>\n",
       "      <th>theme</th>\n",
       "      <th>percentile</th>\n",
       "      <th>PubMed ID</th>\n",
       "      <th>First entity type (Chemical, Gene, Disease)</th>\n",
       "      <th>First entity name, database ID(s)</th>\n",
       "      <th>name1</th>\n",
       "      <th>Second entity type (Chemical, Gene, Disease)</th>\n",
       "      <th>Second entity name, database ID(s)</th>\n",
       "      <th>name2</th>\n",
       "      <th>sentence</th>\n",
       "    </tr>\n",
       "  </thead>\n",
       "  <tbody>\n",
       "    <tr>\n",
       "      <th>0</th>\n",
       "      <td>E+</td>\n",
       "      <td>0.999976</td>\n",
       "      <td>17046567</td>\n",
       "      <td>Chemical</td>\n",
       "      <td>MESH:C524814</td>\n",
       "      <td>10058-F4</td>\n",
       "      <td>Gene</td>\n",
       "      <td>4609</td>\n",
       "      <td>c-myc</td>\n",
       "      <td>A small-molecule &lt;b&gt;c-Myc&lt;/b&gt; inhibitor , &lt;b&gt;1...</td>\n",
       "    </tr>\n",
       "    <tr>\n",
       "      <th>1</th>\n",
       "      <td>Z</td>\n",
       "      <td>0.994259</td>\n",
       "      <td>16214042</td>\n",
       "      <td>Chemical</td>\n",
       "      <td>MESH:C071737</td>\n",
       "      <td>1035-amino_acid</td>\n",
       "      <td>Gene</td>\n",
       "      <td>57478</td>\n",
       "      <td>USP31S1</td>\n",
       "      <td>One cDNA encodes a &lt;b&gt;1035-amino acid&lt;/b&gt; long...</td>\n",
       "    </tr>\n",
       "    <tr>\n",
       "      <th>2</th>\n",
       "      <td>B</td>\n",
       "      <td>0.998975</td>\n",
       "      <td>9809072</td>\n",
       "      <td>Chemical</td>\n",
       "      <td>MESH:C000591384</td>\n",
       "      <td>phospho-tyrosines_1052</td>\n",
       "      <td>Gene</td>\n",
       "      <td>8720</td>\n",
       "      <td>S1P</td>\n",
       "      <td>The cDNA encodes &lt;b&gt;S1P&lt;/b&gt; , an intraluminal ...</td>\n",
       "    </tr>\n",
       "    <tr>\n",
       "      <th>3</th>\n",
       "      <td>A+</td>\n",
       "      <td>0.989815</td>\n",
       "      <td>15642460</td>\n",
       "      <td>Chemical</td>\n",
       "      <td>MESH:C004219</td>\n",
       "      <td>106-137</td>\n",
       "      <td>Gene</td>\n",
       "      <td>820</td>\n",
       "      <td>LL-37</td>\n",
       "      <td>The &lt;b&gt;CAP18&lt;/b&gt; ( &lt;b&gt;106-137&lt;/b&gt; ) peptide , ...</td>\n",
       "    </tr>\n",
       "    <tr>\n",
       "      <th>4</th>\n",
       "      <td>A+</td>\n",
       "      <td>0.989815</td>\n",
       "      <td>15642460</td>\n",
       "      <td>Chemical</td>\n",
       "      <td>MESH:C004219</td>\n",
       "      <td>106-137</td>\n",
       "      <td>Gene</td>\n",
       "      <td>820</td>\n",
       "      <td>LL-37</td>\n",
       "      <td>The binding efficacy of the &lt;b&gt;CAP18&lt;/b&gt; ( &lt;b&gt;...</td>\n",
       "    </tr>\n",
       "  </tbody>\n",
       "</table>\n",
       "</div>"
      ],
      "text/plain": [
       "  theme  percentile  PubMed ID First entity type (Chemical, Gene, Disease)  \\\n",
       "0    E+    0.999976   17046567                                    Chemical   \n",
       "1     Z    0.994259   16214042                                    Chemical   \n",
       "2     B    0.998975    9809072                                    Chemical   \n",
       "3    A+    0.989815   15642460                                    Chemical   \n",
       "4    A+    0.989815   15642460                                    Chemical   \n",
       "\n",
       "  First entity name, database ID(s)                   name1  \\\n",
       "0                      MESH:C524814                10058-F4   \n",
       "1                      MESH:C071737         1035-amino_acid   \n",
       "2                   MESH:C000591384  phospho-tyrosines_1052   \n",
       "3                      MESH:C004219                 106-137   \n",
       "4                      MESH:C004219                 106-137   \n",
       "\n",
       "  Second entity type (Chemical, Gene, Disease)  \\\n",
       "0                                         Gene   \n",
       "1                                         Gene   \n",
       "2                                         Gene   \n",
       "3                                         Gene   \n",
       "4                                         Gene   \n",
       "\n",
       "  Second entity name, database ID(s)    name2  \\\n",
       "0                               4609    c-myc   \n",
       "1                              57478  USP31S1   \n",
       "2                               8720      S1P   \n",
       "3                                820    LL-37   \n",
       "4                                820    LL-37   \n",
       "\n",
       "                                            sentence  \n",
       "0  A small-molecule <b>c-Myc</b> inhibitor , <b>1...  \n",
       "1  One cDNA encodes a <b>1035-amino acid</b> long...  \n",
       "2  The cDNA encodes <b>S1P</b> , an intraluminal ...  \n",
       "3  The <b>CAP18</b> ( <b>106-137</b> ) peptide , ...  \n",
       "4  The binding efficacy of the <b>CAP18</b> ( <b>...  "
      ]
     },
     "execution_count": 4,
     "metadata": {},
     "output_type": "execute_result"
    }
   ],
   "source": [
    "df.head()"
   ]
  },
  {
   "cell_type": "markdown",
   "id": "3995a92c-2e9e-4e4b-995f-993cd4119913",
   "metadata": {},
   "source": [
    "![title](nihms-1061181-f0001.jpg)"
   ]
  },
  {
   "cell_type": "code",
   "execution_count": 13,
   "id": "ba7f6e1f-3af2-49b7-9425-fa52a0dba02a",
   "metadata": {},
   "outputs": [
    {
     "data": {
      "text/plain": [
       "<AxesSubplot:>"
      ]
     },
     "execution_count": 13,
     "metadata": {},
     "output_type": "execute_result"
    },
    {
     "data": {
      "image/png": "[encoded data removed]",
      "text/plain": [
       "<Figure size 432x288 with 1 Axes>"
      ]
     },
     "metadata": {
      "needs_background": "light"
     },
     "output_type": "display_data"
    }
   ],
   "source": [
    "df['theme'].value_counts(normalize=True).plot.barh() # title/label"
   ]
  },
  {
   "cell_type": "code",
   "execution_count": 5,
   "id": "bd346800-c819-4ee6-977c-328942cfaa0c",
   "metadata": {},
   "outputs": [],
   "source": [
    "entity = pd.read_csv(\"entities.tsv2\", on_bad_lines='skip', sep=\"\\t\", header=None, names=[\"Entity_Type\", \"ID\", \"Name\"])"
   ]
  },
  {
   "cell_type": "code",
   "execution_count": 6,
   "id": "00cf6ad0-03e0-4643-946c-157d131ffc28",
   "metadata": {},
   "outputs": [
    {
     "data": {
      "text/html": [
       "<div>\n",
       "<style scoped>\n",
       "    .dataframe tbody tr th:only-of-type {\n",
       "        vertical-align: middle;\n",
       "    }\n",
       "\n",
       "    .dataframe tbody tr th {\n",
       "        vertical-align: top;\n",
       "    }\n",
       "\n",
       "    .dataframe thead th {\n",
       "        text-align: right;\n",
       "    }\n",
       "</style>\n",
       "<table border=\"1\" class=\"dataframe\">\n",
       "  <thead>\n",
       "    <tr style=\"text-align: right;\">\n",
       "      <th></th>\n",
       "      <th>Entity_Type</th>\n",
       "      <th>ID</th>\n",
       "      <th>Name</th>\n",
       "    </tr>\n",
       "  </thead>\n",
       "  <tbody>\n",
       "    <tr>\n",
       "      <th>0</th>\n",
       "      <td>Chemical</td>\n",
       "      <td>NaN</td>\n",
       "      <td>carboxyl</td>\n",
       "    </tr>\n",
       "    <tr>\n",
       "      <th>1</th>\n",
       "      <td>Gene</td>\n",
       "      <td>3164</td>\n",
       "      <td>hormone_receptor</td>\n",
       "    </tr>\n",
       "    <tr>\n",
       "      <th>2</th>\n",
       "      <td>Gene</td>\n",
       "      <td>10280</td>\n",
       "      <td>Sig-1R</td>\n",
       "    </tr>\n",
       "    <tr>\n",
       "      <th>3</th>\n",
       "      <td>Gene</td>\n",
       "      <td>65036(Tax:10116)</td>\n",
       "      <td>cholinesterase</td>\n",
       "    </tr>\n",
       "    <tr>\n",
       "      <th>4</th>\n",
       "      <td>Gene</td>\n",
       "      <td>30816</td>\n",
       "      <td>Env</td>\n",
       "    </tr>\n",
       "  </tbody>\n",
       "</table>\n",
       "</div>"
      ],
      "text/plain": [
       "  Entity_Type                ID              Name\n",
       "0    Chemical               NaN          carboxyl\n",
       "1        Gene              3164  hormone_receptor\n",
       "2        Gene             10280            Sig-1R\n",
       "3        Gene  65036(Tax:10116)    cholinesterase\n",
       "4        Gene             30816               Env"
      ]
     },
     "execution_count": 6,
     "metadata": {},
     "output_type": "execute_result"
    }
   ],
   "source": [
    "entity.head()"
   ]
  },
  {
   "cell_type": "code",
   "execution_count": 18,
   "id": "ab17447d-d0a8-455b-b2ce-5af3069a7719",
   "metadata": {},
   "outputs": [
    {
     "data": {
      "text/plain": [
       "<AxesSubplot:>"
      ]
     },
     "execution_count": 18,
     "metadata": {},
     "output_type": "execute_result"
    },
    {
     "data": {
      "image/png": "[encoded data removed]",
      "text/plain": [
       "<Figure size 432x288 with 1 Axes>"
      ]
     },
     "metadata": {
      "needs_background": "light"
     },
     "output_type": "display_data"
    }
   ],
   "source": [
    "entity['Entity_Type'].value_counts().plot.barh()"
   ]
  },
  {
   "cell_type": "code",
   "execution_count": 7,
   "id": "e7ca2d7d-04d9-42f8-9c3b-007b9ba8fafc",
   "metadata": {},
   "outputs": [],
   "source": [
    "gene = pd.read_csv(\"gene_with_taxa.tsv\", on_bad_lines='skip', sep=\"\\t\", header=None, names=[\"ID\", \"Symbol\", \"TaxID\", \"TaxName\"])"
   ]
  },
  {
   "cell_type": "code",
   "execution_count": 8,
   "id": "e537d232-e117-4070-86e4-205ab4591a96",
   "metadata": {},
   "outputs": [
    {
     "data": {
      "text/html": [
       "<div>\n",
       "<style scoped>\n",
       "    .dataframe tbody tr th:only-of-type {\n",
       "        vertical-align: middle;\n",
       "    }\n",
       "\n",
       "    .dataframe tbody tr th {\n",
       "        vertical-align: top;\n",
       "    }\n",
       "\n",
       "    .dataframe thead th {\n",
       "        text-align: right;\n",
       "    }\n",
       "</style>\n",
       "<table border=\"1\" class=\"dataframe\">\n",
       "  <thead>\n",
       "    <tr style=\"text-align: right;\">\n",
       "      <th></th>\n",
       "      <th>ID</th>\n",
       "      <th>Symbol</th>\n",
       "      <th>TaxID</th>\n",
       "      <th>TaxName</th>\n",
       "    </tr>\n",
       "  </thead>\n",
       "  <tbody>\n",
       "    <tr>\n",
       "      <th>0</th>\n",
       "      <td>67441593</td>\n",
       "      <td>dnaA</td>\n",
       "      <td>24</td>\n",
       "      <td>Shewanella putrefaciens</td>\n",
       "    </tr>\n",
       "    <tr>\n",
       "      <th>1</th>\n",
       "      <td>67441594</td>\n",
       "      <td>dnaN</td>\n",
       "      <td>24</td>\n",
       "      <td>Shewanella putrefaciens</td>\n",
       "    </tr>\n",
       "    <tr>\n",
       "      <th>2</th>\n",
       "      <td>67441595</td>\n",
       "      <td>recF</td>\n",
       "      <td>24</td>\n",
       "      <td>Shewanella putrefaciens</td>\n",
       "    </tr>\n",
       "    <tr>\n",
       "      <th>3</th>\n",
       "      <td>67441596</td>\n",
       "      <td>gyrB</td>\n",
       "      <td>24</td>\n",
       "      <td>Shewanella putrefaciens</td>\n",
       "    </tr>\n",
       "    <tr>\n",
       "      <th>4</th>\n",
       "      <td>67441597</td>\n",
       "      <td>JEZ96_RS00025</td>\n",
       "      <td>24</td>\n",
       "      <td>Shewanella putrefaciens</td>\n",
       "    </tr>\n",
       "    <tr>\n",
       "      <th>...</th>\n",
       "      <td>...</td>\n",
       "      <td>...</td>\n",
       "      <td>...</td>\n",
       "      <td>...</td>\n",
       "    </tr>\n",
       "    <tr>\n",
       "      <th>38198083</th>\n",
       "      <td>72188183</td>\n",
       "      <td>M0R89_RS23250</td>\n",
       "      <td>2938695</td>\n",
       "      <td>Halorussus sp. XZYJT49</td>\n",
       "    </tr>\n",
       "    <tr>\n",
       "      <th>38198084</th>\n",
       "      <td>72188184</td>\n",
       "      <td>M0R89_RS23255</td>\n",
       "      <td>2938695</td>\n",
       "      <td>Halorussus sp. XZYJT49</td>\n",
       "    </tr>\n",
       "    <tr>\n",
       "      <th>38198085</th>\n",
       "      <td>72188185</td>\n",
       "      <td>hisI</td>\n",
       "      <td>2938695</td>\n",
       "      <td>Halorussus sp. XZYJT49</td>\n",
       "    </tr>\n",
       "    <tr>\n",
       "      <th>38198086</th>\n",
       "      <td>72188186</td>\n",
       "      <td>M0R89_RS23265</td>\n",
       "      <td>2938695</td>\n",
       "      <td>Halorussus sp. XZYJT49</td>\n",
       "    </tr>\n",
       "    <tr>\n",
       "      <th>38198087</th>\n",
       "      <td>72188187</td>\n",
       "      <td>M0R89_RS23270</td>\n",
       "      <td>2938695</td>\n",
       "      <td>Halorussus sp. XZYJT49</td>\n",
       "    </tr>\n",
       "  </tbody>\n",
       "</table>\n",
       "<p>38198088 rows × 4 columns</p>\n",
       "</div>"
      ],
      "text/plain": [
       "                ID         Symbol    TaxID                  TaxName\n",
       "0         67441593           dnaA       24  Shewanella putrefaciens\n",
       "1         67441594           dnaN       24  Shewanella putrefaciens\n",
       "2         67441595           recF       24  Shewanella putrefaciens\n",
       "3         67441596           gyrB       24  Shewanella putrefaciens\n",
       "4         67441597  JEZ96_RS00025       24  Shewanella putrefaciens\n",
       "...            ...            ...      ...                      ...\n",
       "38198083  72188183  M0R89_RS23250  2938695   Halorussus sp. XZYJT49\n",
       "38198084  72188184  M0R89_RS23255  2938695   Halorussus sp. XZYJT49\n",
       "38198085  72188185           hisI  2938695   Halorussus sp. XZYJT49\n",
       "38198086  72188186  M0R89_RS23265  2938695   Halorussus sp. XZYJT49\n",
       "38198087  72188187  M0R89_RS23270  2938695   Halorussus sp. XZYJT49\n",
       "\n",
       "[38198088 rows x 4 columns]"
      ]
     },
     "execution_count": 8,
     "metadata": {},
     "output_type": "execute_result"
    }
   ],
   "source": [
    "gene"
   ]
  },
  {
   "cell_type": "markdown",
   "id": "326bfd1a-af63-485e-8e72-c3cb32076966",
   "metadata": {},
   "source": [
    "### Create a graph from the Dataframe\n",
    "* add nodes\n",
    "* from_pandas_edgelist"
   ]
  },
  {
   "cell_type": "code",
   "execution_count": 50,
   "id": "f0f57dce-81fe-4c48-b5d4-03a8a0727243",
   "metadata": {},
   "outputs": [
    {
     "data": {
      "text/html": [
       "<div>\n",
       "<style scoped>\n",
       "    .dataframe tbody tr th:only-of-type {\n",
       "        vertical-align: middle;\n",
       "    }\n",
       "\n",
       "    .dataframe tbody tr th {\n",
       "        vertical-align: top;\n",
       "    }\n",
       "\n",
       "    .dataframe thead th {\n",
       "        text-align: right;\n",
       "    }\n",
       "</style>\n",
       "<table border=\"1\" class=\"dataframe\">\n",
       "  <thead>\n",
       "    <tr style=\"text-align: right;\">\n",
       "      <th></th>\n",
       "      <th>theme</th>\n",
       "      <th>percentile</th>\n",
       "      <th>PubMed ID</th>\n",
       "      <th>First entity type (Chemical, Gene, Disease)</th>\n",
       "      <th>First entity name, database ID(s)</th>\n",
       "      <th>name1</th>\n",
       "      <th>Second entity type (Chemical, Gene, Disease)</th>\n",
       "      <th>Second entity name, database ID(s)</th>\n",
       "      <th>name2</th>\n",
       "      <th>sentence</th>\n",
       "    </tr>\n",
       "  </thead>\n",
       "  <tbody>\n",
       "    <tr>\n",
       "      <th>0</th>\n",
       "      <td>E+</td>\n",
       "      <td>0.999976</td>\n",
       "      <td>17046567</td>\n",
       "      <td>Chemical</td>\n",
       "      <td>MESH:C524814</td>\n",
       "      <td>10058-F4</td>\n",
       "      <td>Gene</td>\n",
       "      <td>4609</td>\n",
       "      <td>c-myc</td>\n",
       "      <td>A small-molecule &lt;b&gt;c-Myc&lt;/b&gt; inhibitor , &lt;b&gt;1...</td>\n",
       "    </tr>\n",
       "    <tr>\n",
       "      <th>1</th>\n",
       "      <td>Z</td>\n",
       "      <td>0.994259</td>\n",
       "      <td>16214042</td>\n",
       "      <td>Chemical</td>\n",
       "      <td>MESH:C071737</td>\n",
       "      <td>1035-amino_acid</td>\n",
       "      <td>Gene</td>\n",
       "      <td>57478</td>\n",
       "      <td>USP31S1</td>\n",
       "      <td>One cDNA encodes a &lt;b&gt;1035-amino acid&lt;/b&gt; long...</td>\n",
       "    </tr>\n",
       "    <tr>\n",
       "      <th>2</th>\n",
       "      <td>B</td>\n",
       "      <td>0.998975</td>\n",
       "      <td>9809072</td>\n",
       "      <td>Chemical</td>\n",
       "      <td>MESH:C000591384</td>\n",
       "      <td>phospho-tyrosines_1052</td>\n",
       "      <td>Gene</td>\n",
       "      <td>8720</td>\n",
       "      <td>S1P</td>\n",
       "      <td>The cDNA encodes &lt;b&gt;S1P&lt;/b&gt; , an intraluminal ...</td>\n",
       "    </tr>\n",
       "    <tr>\n",
       "      <th>3</th>\n",
       "      <td>A+</td>\n",
       "      <td>0.989815</td>\n",
       "      <td>15642460</td>\n",
       "      <td>Chemical</td>\n",
       "      <td>MESH:C004219</td>\n",
       "      <td>106-137</td>\n",
       "      <td>Gene</td>\n",
       "      <td>820</td>\n",
       "      <td>LL-37</td>\n",
       "      <td>The &lt;b&gt;CAP18&lt;/b&gt; ( &lt;b&gt;106-137&lt;/b&gt; ) peptide , ...</td>\n",
       "    </tr>\n",
       "    <tr>\n",
       "      <th>4</th>\n",
       "      <td>A+</td>\n",
       "      <td>0.989815</td>\n",
       "      <td>15642460</td>\n",
       "      <td>Chemical</td>\n",
       "      <td>MESH:C004219</td>\n",
       "      <td>106-137</td>\n",
       "      <td>Gene</td>\n",
       "      <td>820</td>\n",
       "      <td>LL-37</td>\n",
       "      <td>The binding efficacy of the &lt;b&gt;CAP18&lt;/b&gt; ( &lt;b&gt;...</td>\n",
       "    </tr>\n",
       "  </tbody>\n",
       "</table>\n",
       "</div>"
      ],
      "text/plain": [
       "  theme  percentile  PubMed ID First entity type (Chemical, Gene, Disease)  \\\n",
       "0    E+    0.999976   17046567                                    Chemical   \n",
       "1     Z    0.994259   16214042                                    Chemical   \n",
       "2     B    0.998975    9809072                                    Chemical   \n",
       "3    A+    0.989815   15642460                                    Chemical   \n",
       "4    A+    0.989815   15642460                                    Chemical   \n",
       "\n",
       "  First entity name, database ID(s)                   name1  \\\n",
       "0                      MESH:C524814                10058-F4   \n",
       "1                      MESH:C071737         1035-amino_acid   \n",
       "2                   MESH:C000591384  phospho-tyrosines_1052   \n",
       "3                      MESH:C004219                 106-137   \n",
       "4                      MESH:C004219                 106-137   \n",
       "\n",
       "  Second entity type (Chemical, Gene, Disease)  \\\n",
       "0                                         Gene   \n",
       "1                                         Gene   \n",
       "2                                         Gene   \n",
       "3                                         Gene   \n",
       "4                                         Gene   \n",
       "\n",
       "  Second entity name, database ID(s)    name2  \\\n",
       "0                               4609    c-myc   \n",
       "1                              57478  USP31S1   \n",
       "2                               8720      S1P   \n",
       "3                                820    LL-37   \n",
       "4                                820    LL-37   \n",
       "\n",
       "                                            sentence  \n",
       "0  A small-molecule <b>c-Myc</b> inhibitor , <b>1...  \n",
       "1  One cDNA encodes a <b>1035-amino acid</b> long...  \n",
       "2  The cDNA encodes <b>S1P</b> , an intraluminal ...  \n",
       "3  The <b>CAP18</b> ( <b>106-137</b> ) peptide , ...  \n",
       "4  The binding efficacy of the <b>CAP18</b> ( <b>...  "
      ]
     },
     "execution_count": 50,
     "metadata": {},
     "output_type": "execute_result"
    }
   ],
   "source": [
    "df.head()"
   ]
  },
  {
   "cell_type": "code",
   "execution_count": 82,
   "id": "f83bfa8a-df17-469a-b51c-d134ffc3eac2",
   "metadata": {},
   "outputs": [],
   "source": [
    "# Construct the graph from processed DataFrame\n",
    "# https://networkx.org/documentation/stable/reference/generated/networkx.convert_matrix.from_pandas_edgelist.html?highlight=dataframe\n",
    "G = nx.from_pandas_edgelist(df.iloc[:50], \"name1\", \"name2\", [\"theme\", \"percentile\"])"
   ]
  },
  {
   "cell_type": "code",
   "execution_count": 67,
   "id": "30575242-9455-4f58-9544-385bf199bf4e",
   "metadata": {},
   "outputs": [
    {
     "data": {
      "text/plain": [
       "{'theme': 'E+', 'percentile': 0.9999761480538004}"
      ]
     },
     "execution_count": 67,
     "metadata": {},
     "output_type": "execute_result"
    }
   ],
   "source": [
    "G['10058-F4']['c-myc']"
   ]
  },
  {
   "cell_type": "code",
   "execution_count": 54,
   "id": "4423bd51-edf9-4d8f-9470-848283d1a50c",
   "metadata": {},
   "outputs": [
    {
     "data": {
      "text/plain": [
       "['10058-F4',\n",
       " 'c-myc',\n",
       " '1035-amino_acid',\n",
       " 'USP31S1',\n",
       " 'phospho-tyrosines_1052',\n",
       " 'S1P',\n",
       " '106-137',\n",
       " 'LL-37',\n",
       " 'WP1066',\n",
       " 'vinculin']"
      ]
     },
     "execution_count": 54,
     "metadata": {},
     "output_type": "execute_result"
    }
   ],
   "source": [
    "list(G.nodes)[:10]"
   ]
  },
  {
   "cell_type": "code",
   "execution_count": 60,
   "id": "bfec2460-b414-4336-946f-d44f543801d1",
   "metadata": {},
   "outputs": [
    {
     "data": {
      "text/plain": [
       "[('10058-F4', 'c-myc'),\n",
       " ('c-myc', 'calcitriol'),\n",
       " ('c-myc', '1,2-dimethylhydrazine'),\n",
       " ('c-myc', '12-O-tetradecanoylphorbol-13-acetate'),\n",
       " ('c-myc', '15d-PGJ2'),\n",
       " ('c-myc', '17-AAG'),\n",
       " ('c-myc', 'estradiol'),\n",
       " ('c-myc', '4-chlorobenzoyl_berbamine'),\n",
       " ('c-myc', '4-hydroxynonenal'),\n",
       " ('c-myc', '4-hydroxytamoxifen')]"
      ]
     },
     "execution_count": 60,
     "metadata": {},
     "output_type": "execute_result"
    }
   ],
   "source": [
    "list(G.edges)[:10]"
   ]
  },
  {
   "cell_type": "code",
   "execution_count": 92,
   "id": "396e5fac-7ba8-42d3-81d0-073f65c18b31",
   "metadata": {},
   "outputs": [
    {
     "data": {
      "image/png": "[encoded data removed]",
      "text/plain": [
       "<Figure size 432x288 with 1 Axes>"
      ]
     },
     "metadata": {},
     "output_type": "display_data"
    }
   ],
   "source": [
    "nx.draw_spring(G, node_size=50, with_labels=True, linewidths=5, font_size=10)"
   ]
  },
  {
   "cell_type": "markdown",
   "id": "084da27f-04a7-4bf2-ae09-bb9a7b0198b3",
   "metadata": {},
   "source": [
    "### Save graph to .png using pygraphviz"
   ]
  },
  {
   "cell_type": "code",
   "execution_count": 71,
   "id": "e926f4a2-0da2-4207-9f33-ebea858e2a55",
   "metadata": {},
   "outputs": [],
   "source": [
    "A = nx.nx_agraph.to_agraph(G)\n",
    "A.draw(\"chemical_gene_gnbr.png\", prog=\"dot\") "
   ]
  },
  {
   "cell_type": "markdown",
   "id": "faaf112f-72ac-4df8-ac5f-d2b76aca5f47",
   "metadata": {},
   "source": [
    "### Reading and writing graphs"
   ]
  },
  {
   "cell_type": "code",
   "execution_count": null,
   "id": "39823669-2fd1-48b2-868b-268a4994fe07",
   "metadata": {},
   "outputs": [],
   "source": [
    "nx.write_gexf(G, \"gnbr_chemical_gene.gexf\") # or other common formats gml, json, pickle."
   ]
  },
  {
   "cell_type": "markdown",
   "id": "d9b6ad85-daae-4181-a436-f6e14cf8e7cb",
   "metadata": {},
   "source": [
    "### Load networkx Graph for Pytorch-geometric use\n",
    "* Loading: https://stackoverflow.com/questions/70452465/how-to-load-in-graph-from-networkx-into-pytorch-geometric-and-set-node-features\n",
    "* Training: https://towardsdatascience.com/hands-on-graph-neural-networks-with-pytorch-pytorch-geometric-359487e221a8"
   ]
  },
  {
   "cell_type": "code",
   "execution_count": 76,
   "id": "c5d358a9-92a9-4af4-a0d4-4ba389f494d1",
   "metadata": {},
   "outputs": [],
   "source": [
    "from torch_geometric.utils.convert import from_networkx"
   ]
  },
  {
   "cell_type": "code",
   "execution_count": 77,
   "id": "dffa0c4d-e524-4f37-bbaa-5d16e2390cda",
   "metadata": {},
   "outputs": [],
   "source": [
    "pyg_graph = from_networkx(G)"
   ]
  },
  {
   "cell_type": "code",
   "execution_count": 80,
   "id": "3b1657fa-8a76-46d2-a35b-acd110473903",
   "metadata": {},
   "outputs": [
    {
     "data": {
      "text/plain": [
       "Data(edge_index=[2, 722], theme=[722], percentile=[722], num_nodes=404)"
      ]
     },
     "execution_count": 80,
     "metadata": {},
     "output_type": "execute_result"
    }
   ],
   "source": [
    "pyg_graph"
   ]
  }
 ],
 "metadata": {
  "kernelspec": {
   "display_name": "gdal_py",
   "language": "python",
   "name": "gdal_py"
  },
  "language_info": {
   "codemirror_mode": {
    "name": "ipython",
    "version": 3
   },
   "file_extension": ".py",
   "mimetype": "text/x-python",
   "name": "python",
   "nbconvert_exporter": "python",
   "pygments_lexer": "ipython3",
   "version": "3.10.2"
  }
 },
 "nbformat": 4,
 "nbformat_minor": 5
}
